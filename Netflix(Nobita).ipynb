{
 "cells": [
  {
   "cell_type": "code",
   "execution_count": 8,
   "id": "21dc33e9-0f05-4c0c-8f12-4094913f4048",
   "metadata": {},
   "outputs": [
    {
     "data": {
      "text/html": [
       "<img src=\"https://cdn.1min30.com/wp-content/uploads/2018/02/Couleur-logo-Netflix.jpg\"/>"
      ],
      "text/plain": [
       "<IPython.core.display.Image object>"
      ]
     },
     "execution_count": 8,
     "metadata": {},
     "output_type": "execute_result"
    }
   ],
   "source": [
    "from IPython.display import Image\n",
    "\n",
    "image_url = 'https://cdn.1min30.com/wp-content/uploads/2018/02/Couleur-logo-Netflix.jpg'\n",
    "Image(url = image_url)"
   ]
  },
  {
   "cell_type": "markdown",
   "id": "03ffa389-cf8b-4bcf-b789-f7dc1b5b1539",
   "metadata": {},
   "source": [
    "Loading the Important Libraries"
   ]
  },
  {
   "cell_type": "code",
   "execution_count": 9,
   "id": "f46a8d37-e95c-4965-85ac-a81bec1bd8f7",
   "metadata": {},
   "outputs": [],
   "source": [
    "import pandas as pd\n",
    "import numpy as np\n",
    "import matplotlib.pyplot as plt\n",
    "import seaborn as sns"
   ]
  },
  {
   "cell_type": "markdown",
   "id": "10805ea3-e2c7-4344-b6ba-c4881537bc22",
   "metadata": {},
   "source": [
    "Importing the data"
   ]
  },
  {
   "cell_type": "code",
   "execution_count": 10,
   "id": "a3170f65-f1a0-43f8-81ee-d1b55dac5212",
   "metadata": {},
   "outputs": [],
   "source": [
    "data = pd.read_csv('combined_data_1.txt', header = None, usecols=[0,1], names=['cust_id', 'Ratings'])"
   ]
  },
  {
   "cell_type": "code",
   "execution_count": 11,
   "id": "acc8e480-018b-4d24-a716-48f68a220ef5",
   "metadata": {},
   "outputs": [
    {
     "data": {
      "text/html": [
       "<div>\n",
       "<style scoped>\n",
       "    .dataframe tbody tr th:only-of-type {\n",
       "        vertical-align: middle;\n",
       "    }\n",
       "\n",
       "    .dataframe tbody tr th {\n",
       "        vertical-align: top;\n",
       "    }\n",
       "\n",
       "    .dataframe thead th {\n",
       "        text-align: right;\n",
       "    }\n",
       "</style>\n",
       "<table border=\"1\" class=\"dataframe\">\n",
       "  <thead>\n",
       "    <tr style=\"text-align: right;\">\n",
       "      <th></th>\n",
       "      <th>cust_id</th>\n",
       "      <th>Ratings</th>\n",
       "    </tr>\n",
       "  </thead>\n",
       "  <tbody>\n",
       "    <tr>\n",
       "      <th>0</th>\n",
       "      <td>1:</td>\n",
       "      <td>NaN</td>\n",
       "    </tr>\n",
       "    <tr>\n",
       "      <th>1</th>\n",
       "      <td>1488844</td>\n",
       "      <td>3.0</td>\n",
       "    </tr>\n",
       "    <tr>\n",
       "      <th>2</th>\n",
       "      <td>822109</td>\n",
       "      <td>5.0</td>\n",
       "    </tr>\n",
       "    <tr>\n",
       "      <th>3</th>\n",
       "      <td>885013</td>\n",
       "      <td>4.0</td>\n",
       "    </tr>\n",
       "    <tr>\n",
       "      <th>4</th>\n",
       "      <td>30878</td>\n",
       "      <td>4.0</td>\n",
       "    </tr>\n",
       "    <tr>\n",
       "      <th>...</th>\n",
       "      <td>...</td>\n",
       "      <td>...</td>\n",
       "    </tr>\n",
       "    <tr>\n",
       "      <th>24058258</th>\n",
       "      <td>2591364</td>\n",
       "      <td>2.0</td>\n",
       "    </tr>\n",
       "    <tr>\n",
       "      <th>24058259</th>\n",
       "      <td>1791000</td>\n",
       "      <td>2.0</td>\n",
       "    </tr>\n",
       "    <tr>\n",
       "      <th>24058260</th>\n",
       "      <td>512536</td>\n",
       "      <td>5.0</td>\n",
       "    </tr>\n",
       "    <tr>\n",
       "      <th>24058261</th>\n",
       "      <td>988963</td>\n",
       "      <td>3.0</td>\n",
       "    </tr>\n",
       "    <tr>\n",
       "      <th>24058262</th>\n",
       "      <td>1704416</td>\n",
       "      <td>3.0</td>\n",
       "    </tr>\n",
       "  </tbody>\n",
       "</table>\n",
       "<p>24058263 rows × 2 columns</p>\n",
       "</div>"
      ],
      "text/plain": [
       "          cust_id  Ratings\n",
       "0              1:      NaN\n",
       "1         1488844      3.0\n",
       "2          822109      5.0\n",
       "3          885013      4.0\n",
       "4           30878      4.0\n",
       "...           ...      ...\n",
       "24058258  2591364      2.0\n",
       "24058259  1791000      2.0\n",
       "24058260   512536      5.0\n",
       "24058261   988963      3.0\n",
       "24058262  1704416      3.0\n",
       "\n",
       "[24058263 rows x 2 columns]"
      ]
     },
     "execution_count": 11,
     "metadata": {},
     "output_type": "execute_result"
    }
   ],
   "source": [
    "data"
   ]
  },
  {
   "cell_type": "markdown",
   "id": "628009b9-e79b-442e-8358-7d12734e8f2e",
   "metadata": {},
   "source": [
    "## Cleaning and organizing the data"
   ]
  },
  {
   "cell_type": "code",
   "execution_count": 12,
   "id": "5af5f753-7f77-4a59-8d9b-e9000359856d",
   "metadata": {},
   "outputs": [],
   "source": [
    "# Going to clean the data by making a new column movie id\n",
    "n = None\n",
    "list = []\n",
    "for cust in data['cust_id']:\n",
    "    if \":\" in cust:\n",
    "        n = int(cust.replace(\":\", \" \"))\n",
    "    list.append(n)"
   ]
  },
  {
   "cell_type": "code",
   "execution_count": 13,
   "id": "ff08768d-5175-46a3-a3d4-8084095097ad",
   "metadata": {},
   "outputs": [],
   "source": [
    "data[\"Movie_id\"] = list"
   ]
  },
  {
   "cell_type": "code",
   "execution_count": 14,
   "id": "bd2cb8a7-21fa-487a-8356-b2c8bcc0b3cd",
   "metadata": {},
   "outputs": [
    {
     "data": {
      "text/html": [
       "<div>\n",
       "<style scoped>\n",
       "    .dataframe tbody tr th:only-of-type {\n",
       "        vertical-align: middle;\n",
       "    }\n",
       "\n",
       "    .dataframe tbody tr th {\n",
       "        vertical-align: top;\n",
       "    }\n",
       "\n",
       "    .dataframe thead th {\n",
       "        text-align: right;\n",
       "    }\n",
       "</style>\n",
       "<table border=\"1\" class=\"dataframe\">\n",
       "  <thead>\n",
       "    <tr style=\"text-align: right;\">\n",
       "      <th></th>\n",
       "      <th>cust_id</th>\n",
       "      <th>Ratings</th>\n",
       "      <th>Movie_id</th>\n",
       "    </tr>\n",
       "  </thead>\n",
       "  <tbody>\n",
       "    <tr>\n",
       "      <th>0</th>\n",
       "      <td>1:</td>\n",
       "      <td>NaN</td>\n",
       "      <td>1</td>\n",
       "    </tr>\n",
       "    <tr>\n",
       "      <th>1</th>\n",
       "      <td>1488844</td>\n",
       "      <td>3.0</td>\n",
       "      <td>1</td>\n",
       "    </tr>\n",
       "    <tr>\n",
       "      <th>2</th>\n",
       "      <td>822109</td>\n",
       "      <td>5.0</td>\n",
       "      <td>1</td>\n",
       "    </tr>\n",
       "    <tr>\n",
       "      <th>3</th>\n",
       "      <td>885013</td>\n",
       "      <td>4.0</td>\n",
       "      <td>1</td>\n",
       "    </tr>\n",
       "    <tr>\n",
       "      <th>4</th>\n",
       "      <td>30878</td>\n",
       "      <td>4.0</td>\n",
       "      <td>1</td>\n",
       "    </tr>\n",
       "  </tbody>\n",
       "</table>\n",
       "</div>"
      ],
      "text/plain": [
       "   cust_id  Ratings  Movie_id\n",
       "0       1:      NaN         1\n",
       "1  1488844      3.0         1\n",
       "2   822109      5.0         1\n",
       "3   885013      4.0         1\n",
       "4    30878      4.0         1"
      ]
     },
     "execution_count": 14,
     "metadata": {},
     "output_type": "execute_result"
    }
   ],
   "source": [
    "data.head()"
   ]
  },
  {
   "cell_type": "code",
   "execution_count": 15,
   "id": "c884af8b-2e60-48d5-a8e0-772a8f76242d",
   "metadata": {},
   "outputs": [
    {
     "name": "stdout",
     "output_type": "stream",
     "text": [
      "<class 'pandas.core.frame.DataFrame'>\n",
      "RangeIndex: 24058263 entries, 0 to 24058262\n",
      "Data columns (total 3 columns):\n",
      " #   Column    Dtype  \n",
      "---  ------    -----  \n",
      " 0   cust_id   object \n",
      " 1   Ratings   float64\n",
      " 2   Movie_id  int64  \n",
      "dtypes: float64(1), int64(1), object(1)\n",
      "memory usage: 550.7+ MB\n"
     ]
    }
   ],
   "source": [
    "data.info()"
   ]
  },
  {
   "cell_type": "code",
   "execution_count": 16,
   "id": "77b2dfbf-6b23-4ccd-aa08-873d58d2d3b3",
   "metadata": {},
   "outputs": [
    {
     "data": {
      "text/plain": [
       "4499"
      ]
     },
     "execution_count": 16,
     "metadata": {},
     "output_type": "execute_result"
    }
   ],
   "source": [
    "data[\"cust_id\"].str.contains(\":\").sum()"
   ]
  },
  {
   "cell_type": "code",
   "execution_count": 17,
   "id": "d5913771-a005-4fd4-bc3a-011ffe8ffc34",
   "metadata": {},
   "outputs": [],
   "source": [
    "# Dropping the null values\n",
    "data.dropna(inplace=True)"
   ]
  },
  {
   "cell_type": "code",
   "execution_count": 18,
   "id": "380924e7-3b20-4f48-b0a7-fe20fb6e036c",
   "metadata": {},
   "outputs": [],
   "source": [
    "# Properly converting the data type as required\n",
    "data['cust_id'] = data['cust_id'].astype(\"int\")"
   ]
  },
  {
   "cell_type": "code",
   "execution_count": 19,
   "id": "faa7db04-8b6b-47c2-b551-7df98925e476",
   "metadata": {},
   "outputs": [
    {
     "name": "stdout",
     "output_type": "stream",
     "text": [
      "<class 'pandas.core.frame.DataFrame'>\n",
      "Index: 24053764 entries, 1 to 24058262\n",
      "Data columns (total 3 columns):\n",
      " #   Column    Dtype  \n",
      "---  ------    -----  \n",
      " 0   cust_id   int32  \n",
      " 1   Ratings   float64\n",
      " 2   Movie_id  int64  \n",
      "dtypes: float64(1), int32(1), int64(1)\n",
      "memory usage: 642.3 MB\n"
     ]
    }
   ],
   "source": [
    "data.info()"
   ]
  },
  {
   "cell_type": "code",
   "execution_count": 20,
   "id": "ba498143-7198-4f3d-9911-8208c9e46c5d",
   "metadata": {},
   "outputs": [
    {
     "data": {
      "text/html": [
       "<div>\n",
       "<style scoped>\n",
       "    .dataframe tbody tr th:only-of-type {\n",
       "        vertical-align: middle;\n",
       "    }\n",
       "\n",
       "    .dataframe tbody tr th {\n",
       "        vertical-align: top;\n",
       "    }\n",
       "\n",
       "    .dataframe thead th {\n",
       "        text-align: right;\n",
       "    }\n",
       "</style>\n",
       "<table border=\"1\" class=\"dataframe\">\n",
       "  <thead>\n",
       "    <tr style=\"text-align: right;\">\n",
       "      <th></th>\n",
       "      <th>cust_id</th>\n",
       "      <th>Ratings</th>\n",
       "      <th>Movie_id</th>\n",
       "    </tr>\n",
       "  </thead>\n",
       "  <tbody>\n",
       "    <tr>\n",
       "      <th>1</th>\n",
       "      <td>1488844</td>\n",
       "      <td>3.0</td>\n",
       "      <td>1</td>\n",
       "    </tr>\n",
       "    <tr>\n",
       "      <th>2</th>\n",
       "      <td>822109</td>\n",
       "      <td>5.0</td>\n",
       "      <td>1</td>\n",
       "    </tr>\n",
       "    <tr>\n",
       "      <th>3</th>\n",
       "      <td>885013</td>\n",
       "      <td>4.0</td>\n",
       "      <td>1</td>\n",
       "    </tr>\n",
       "    <tr>\n",
       "      <th>4</th>\n",
       "      <td>30878</td>\n",
       "      <td>4.0</td>\n",
       "      <td>1</td>\n",
       "    </tr>\n",
       "    <tr>\n",
       "      <th>5</th>\n",
       "      <td>823519</td>\n",
       "      <td>3.0</td>\n",
       "      <td>1</td>\n",
       "    </tr>\n",
       "  </tbody>\n",
       "</table>\n",
       "</div>"
      ],
      "text/plain": [
       "   cust_id  Ratings  Movie_id\n",
       "1  1488844      3.0         1\n",
       "2   822109      5.0         1\n",
       "3   885013      4.0         1\n",
       "4    30878      4.0         1\n",
       "5   823519      3.0         1"
      ]
     },
     "execution_count": 20,
     "metadata": {},
     "output_type": "execute_result"
    }
   ],
   "source": [
    "data.head()"
   ]
  },
  {
   "cell_type": "markdown",
   "id": "86b90241-bc29-4748-a2ab-a12c2052f8fd",
   "metadata": {},
   "source": [
    "### Now the movie data is cleaned so Now we can do some EDA in this"
   ]
  },
  {
   "cell_type": "code",
   "execution_count": 21,
   "id": "c57a78a4-cec7-4872-a7e3-9e5332b88593",
   "metadata": {},
   "outputs": [
    {
     "data": {
      "text/plain": [
       "4499"
      ]
     },
     "execution_count": 21,
     "metadata": {},
     "output_type": "execute_result"
    }
   ],
   "source": [
    "u_movies = data['Movie_id'].nunique()\n",
    "u_movies"
   ]
  },
  {
   "cell_type": "code",
   "execution_count": 22,
   "id": "59debca9-bc4e-4ad1-b6a1-6330e5a1c130",
   "metadata": {},
   "outputs": [
    {
     "data": {
      "text/plain": [
       "470758"
      ]
     },
     "execution_count": 22,
     "metadata": {},
     "output_type": "execute_result"
    }
   ],
   "source": [
    "data['cust_id'].nunique()"
   ]
  },
  {
   "cell_type": "markdown",
   "id": "770110e3-1a8e-41df-b0a7-640d87a18a08",
   "metadata": {},
   "source": [
    "> There are total 4499 Movies list and 470758 unique customers in this dataset"
   ]
  },
  {
   "cell_type": "code",
   "execution_count": 23,
   "id": "ca06e734-1986-4946-86d6-343e71e326b3",
   "metadata": {},
   "outputs": [
    {
     "data": {
      "text/html": [
       "<div>\n",
       "<style scoped>\n",
       "    .dataframe tbody tr th:only-of-type {\n",
       "        vertical-align: middle;\n",
       "    }\n",
       "\n",
       "    .dataframe tbody tr th {\n",
       "        vertical-align: top;\n",
       "    }\n",
       "\n",
       "    .dataframe thead th {\n",
       "        text-align: right;\n",
       "    }\n",
       "</style>\n",
       "<table border=\"1\" class=\"dataframe\">\n",
       "  <thead>\n",
       "    <tr style=\"text-align: right;\">\n",
       "      <th></th>\n",
       "      <th>count</th>\n",
       "    </tr>\n",
       "    <tr>\n",
       "      <th>Ratings</th>\n",
       "      <th></th>\n",
       "    </tr>\n",
       "  </thead>\n",
       "  <tbody>\n",
       "    <tr>\n",
       "      <th>1.0</th>\n",
       "      <td>1118186</td>\n",
       "    </tr>\n",
       "    <tr>\n",
       "      <th>2.0</th>\n",
       "      <td>2439073</td>\n",
       "    </tr>\n",
       "    <tr>\n",
       "      <th>3.0</th>\n",
       "      <td>6904181</td>\n",
       "    </tr>\n",
       "    <tr>\n",
       "      <th>4.0</th>\n",
       "      <td>8085741</td>\n",
       "    </tr>\n",
       "    <tr>\n",
       "      <th>5.0</th>\n",
       "      <td>5506583</td>\n",
       "    </tr>\n",
       "  </tbody>\n",
       "</table>\n",
       "</div>"
      ],
      "text/plain": [
       "           count\n",
       "Ratings         \n",
       "1.0      1118186\n",
       "2.0      2439073\n",
       "3.0      6904181\n",
       "4.0      8085741\n",
       "5.0      5506583"
      ]
     },
     "execution_count": 23,
     "metadata": {},
     "output_type": "execute_result"
    }
   ],
   "source": [
    "stars = data.groupby('Ratings')['Movie_id'].agg(['count'])\n",
    "stars"
   ]
  },
  {
   "cell_type": "code",
   "execution_count": 24,
   "id": "ced45cbe-ae8d-4000-92ad-86867b7edcd3",
   "metadata": {},
   "outputs": [
    {
     "data": {
      "image/png": "[encoded data removed]",
      "text/plain": [
       "<Figure size 640x480 with 1 Axes>"
      ]
     },
     "metadata": {},
     "output_type": "display_data"
    }
   ],
   "source": [
    "stars.plot(kind = 'barh')\n",
    "plt.grid()"
   ]
  },
  {
   "cell_type": "markdown",
   "id": "cfbfe04d-5937-473e-88a7-cfe6cb089682",
   "metadata": {},
   "source": [
    "### In this graph we can see that 4 star graph is the most repested value"
   ]
  },
  {
   "cell_type": "code",
   "execution_count": 25,
   "id": "ed930869-0ca0-4721-9276-c5011edf20c5",
   "metadata": {},
   "outputs": [
    {
     "data": {
      "text/html": [
       "<div>\n",
       "<style scoped>\n",
       "    .dataframe tbody tr th:only-of-type {\n",
       "        vertical-align: middle;\n",
       "    }\n",
       "\n",
       "    .dataframe tbody tr th {\n",
       "        vertical-align: top;\n",
       "    }\n",
       "\n",
       "    .dataframe thead th {\n",
       "        text-align: right;\n",
       "    }\n",
       "</style>\n",
       "<table border=\"1\" class=\"dataframe\">\n",
       "  <thead>\n",
       "    <tr style=\"text-align: right;\">\n",
       "      <th></th>\n",
       "      <th>cust_id</th>\n",
       "      <th>Ratings</th>\n",
       "      <th>Movie_id</th>\n",
       "    </tr>\n",
       "  </thead>\n",
       "  <tbody>\n",
       "    <tr>\n",
       "      <th>1</th>\n",
       "      <td>1488844</td>\n",
       "      <td>3.0</td>\n",
       "      <td>1</td>\n",
       "    </tr>\n",
       "    <tr>\n",
       "      <th>2</th>\n",
       "      <td>822109</td>\n",
       "      <td>5.0</td>\n",
       "      <td>1</td>\n",
       "    </tr>\n",
       "    <tr>\n",
       "      <th>3</th>\n",
       "      <td>885013</td>\n",
       "      <td>4.0</td>\n",
       "      <td>1</td>\n",
       "    </tr>\n",
       "    <tr>\n",
       "      <th>4</th>\n",
       "      <td>30878</td>\n",
       "      <td>4.0</td>\n",
       "      <td>1</td>\n",
       "    </tr>\n",
       "    <tr>\n",
       "      <th>5</th>\n",
       "      <td>823519</td>\n",
       "      <td>3.0</td>\n",
       "      <td>1</td>\n",
       "    </tr>\n",
       "  </tbody>\n",
       "</table>\n",
       "</div>"
      ],
      "text/plain": [
       "   cust_id  Ratings  Movie_id\n",
       "1  1488844      3.0         1\n",
       "2   822109      5.0         1\n",
       "3   885013      4.0         1\n",
       "4    30878      4.0         1\n",
       "5   823519      3.0         1"
      ]
     },
     "execution_count": 25,
     "metadata": {},
     "output_type": "execute_result"
    }
   ],
   "source": [
    "data.head()"
   ]
  },
  {
   "cell_type": "code",
   "execution_count": 26,
   "id": "80f4148f-2e75-42b4-8aab-6dde30ef78c5",
   "metadata": {},
   "outputs": [
    {
     "name": "stdout",
     "output_type": "stream",
     "text": [
      "<class 'pandas.core.frame.DataFrame'>\n",
      "Index: 24053764 entries, 1 to 24058262\n",
      "Data columns (total 3 columns):\n",
      " #   Column    Dtype  \n",
      "---  ------    -----  \n",
      " 0   cust_id   int32  \n",
      " 1   Ratings   float64\n",
      " 2   Movie_id  int64  \n",
      "dtypes: float64(1), int32(1), int64(1)\n",
      "memory usage: 642.3 MB\n"
     ]
    }
   ],
   "source": [
    "data.info()"
   ]
  },
  {
   "cell_type": "code",
   "execution_count": 27,
   "id": "f7f396cf-1fcc-43d4-9472-17a6fbe5bf63",
   "metadata": {},
   "outputs": [
    {
     "data": {
      "text/html": [
       "<div>\n",
       "<style scoped>\n",
       "    .dataframe tbody tr th:only-of-type {\n",
       "        vertical-align: middle;\n",
       "    }\n",
       "\n",
       "    .dataframe tbody tr th {\n",
       "        vertical-align: top;\n",
       "    }\n",
       "\n",
       "    .dataframe thead th {\n",
       "        text-align: right;\n",
       "    }\n",
       "</style>\n",
       "<table border=\"1\" class=\"dataframe\">\n",
       "  <thead>\n",
       "    <tr style=\"text-align: right;\">\n",
       "      <th></th>\n",
       "      <th>count</th>\n",
       "    </tr>\n",
       "    <tr>\n",
       "      <th>Movie_id</th>\n",
       "      <th></th>\n",
       "    </tr>\n",
       "  </thead>\n",
       "  <tbody>\n",
       "    <tr>\n",
       "      <th>1</th>\n",
       "      <td>547</td>\n",
       "    </tr>\n",
       "    <tr>\n",
       "      <th>2</th>\n",
       "      <td>145</td>\n",
       "    </tr>\n",
       "    <tr>\n",
       "      <th>3</th>\n",
       "      <td>2012</td>\n",
       "    </tr>\n",
       "    <tr>\n",
       "      <th>4</th>\n",
       "      <td>142</td>\n",
       "    </tr>\n",
       "    <tr>\n",
       "      <th>5</th>\n",
       "      <td>1140</td>\n",
       "    </tr>\n",
       "    <tr>\n",
       "      <th>...</th>\n",
       "      <td>...</td>\n",
       "    </tr>\n",
       "    <tr>\n",
       "      <th>4495</th>\n",
       "      <td>614</td>\n",
       "    </tr>\n",
       "    <tr>\n",
       "      <th>4496</th>\n",
       "      <td>9519</td>\n",
       "    </tr>\n",
       "    <tr>\n",
       "      <th>4497</th>\n",
       "      <td>714</td>\n",
       "    </tr>\n",
       "    <tr>\n",
       "      <th>4498</th>\n",
       "      <td>269</td>\n",
       "    </tr>\n",
       "    <tr>\n",
       "      <th>4499</th>\n",
       "      <td>428</td>\n",
       "    </tr>\n",
       "  </tbody>\n",
       "</table>\n",
       "<p>4499 rows × 1 columns</p>\n",
       "</div>"
      ],
      "text/plain": [
       "          count\n",
       "Movie_id       \n",
       "1           547\n",
       "2           145\n",
       "3          2012\n",
       "4           142\n",
       "5          1140\n",
       "...         ...\n",
       "4495        614\n",
       "4496       9519\n",
       "4497        714\n",
       "4498        269\n",
       "4499        428\n",
       "\n",
       "[4499 rows x 1 columns]"
      ]
     },
     "execution_count": 27,
     "metadata": {},
     "output_type": "execute_result"
    }
   ],
   "source": [
    "mov_summ = data.groupby('Movie_id')['Ratings'].agg(['count'])\n",
    "mov_summ"
   ]
  },
  {
   "cell_type": "code",
   "execution_count": null,
   "id": "2ba06a00-13e5-4766-b3f0-71fe73a1a0b4",
   "metadata": {},
   "outputs": [],
   "source": []
  },
  {
   "cell_type": "code",
   "execution_count": 28,
   "id": "8476638f-3de1-4041-bb38-67dcf302aa6b",
   "metadata": {},
   "outputs": [
    {
     "data": {
      "text/html": [
       "<div>\n",
       "<style scoped>\n",
       "    .dataframe tbody tr th:only-of-type {\n",
       "        vertical-align: middle;\n",
       "    }\n",
       "\n",
       "    .dataframe tbody tr th {\n",
       "        vertical-align: top;\n",
       "    }\n",
       "\n",
       "    .dataframe thead th {\n",
       "        text-align: right;\n",
       "    }\n",
       "</style>\n",
       "<table border=\"1\" class=\"dataframe\">\n",
       "  <thead>\n",
       "    <tr style=\"text-align: right;\">\n",
       "      <th></th>\n",
       "      <th>count</th>\n",
       "    </tr>\n",
       "    <tr>\n",
       "      <th>cust_id</th>\n",
       "      <th></th>\n",
       "    </tr>\n",
       "  </thead>\n",
       "  <tbody>\n",
       "    <tr>\n",
       "      <th>6</th>\n",
       "      <td>153</td>\n",
       "    </tr>\n",
       "    <tr>\n",
       "      <th>7</th>\n",
       "      <td>195</td>\n",
       "    </tr>\n",
       "    <tr>\n",
       "      <th>8</th>\n",
       "      <td>21</td>\n",
       "    </tr>\n",
       "    <tr>\n",
       "      <th>10</th>\n",
       "      <td>49</td>\n",
       "    </tr>\n",
       "    <tr>\n",
       "      <th>25</th>\n",
       "      <td>4</td>\n",
       "    </tr>\n",
       "    <tr>\n",
       "      <th>...</th>\n",
       "      <td>...</td>\n",
       "    </tr>\n",
       "    <tr>\n",
       "      <th>2649404</th>\n",
       "      <td>12</td>\n",
       "    </tr>\n",
       "    <tr>\n",
       "      <th>2649409</th>\n",
       "      <td>10</td>\n",
       "    </tr>\n",
       "    <tr>\n",
       "      <th>2649421</th>\n",
       "      <td>3</td>\n",
       "    </tr>\n",
       "    <tr>\n",
       "      <th>2649426</th>\n",
       "      <td>74</td>\n",
       "    </tr>\n",
       "    <tr>\n",
       "      <th>2649429</th>\n",
       "      <td>62</td>\n",
       "    </tr>\n",
       "  </tbody>\n",
       "</table>\n",
       "<p>470758 rows × 1 columns</p>\n",
       "</div>"
      ],
      "text/plain": [
       "         count\n",
       "cust_id       \n",
       "6          153\n",
       "7          195\n",
       "8           21\n",
       "10          49\n",
       "25           4\n",
       "...        ...\n",
       "2649404     12\n",
       "2649409     10\n",
       "2649421      3\n",
       "2649426     74\n",
       "2649429     62\n",
       "\n",
       "[470758 rows x 1 columns]"
      ]
     },
     "execution_count": 28,
     "metadata": {},
     "output_type": "execute_result"
    }
   ],
   "source": [
    "cust_summ = data.groupby('cust_id')['Ratings'].agg(['count'])\n",
    "cust_summ"
   ]
  },
  {
   "cell_type": "markdown",
   "id": "a79ca35a-7506-4a71-b177-12f9885914ed",
   "metadata": {},
   "source": [
    "We can't suggest anyone the movie which gets oly 10 or 20 revies even though it rated 5 star and we can't say a customer id is genuine if we out of 4499 movies he watched only 1 or 2 movies"
   ]
  },
  {
   "cell_type": "code",
   "execution_count": 29,
   "id": "9ed87149-74ea-45d4-9c59-56144c6fd3ac",
   "metadata": {},
   "outputs": [
    {
     "data": {
      "text/plain": [
       "908.0"
      ]
     },
     "execution_count": 29,
     "metadata": {},
     "output_type": "execute_result"
    }
   ],
   "source": [
    "mov_rem = mov_summ['count'].quantile(0.6).round(0)\n",
    "mov_rem"
   ]
  },
  {
   "cell_type": "code",
   "execution_count": 30,
   "id": "1352b69e-613f-4355-9381-d71140f01fef",
   "metadata": {},
   "outputs": [
    {
     "data": {
      "text/plain": [
       "36.0"
      ]
     },
     "execution_count": 30,
     "metadata": {},
     "output_type": "execute_result"
    }
   ],
   "source": [
    "cust_rem = cust_summ['count'].quantile(0.6).round(0)\n",
    "cust_rem"
   ]
  },
  {
   "cell_type": "code",
   "execution_count": 31,
   "id": "39000eb4-9d84-42c1-9bb3-f2d5868f7804",
   "metadata": {},
   "outputs": [
    {
     "data": {
      "text/plain": [
       "Index([   1,    2,    4,    7,    9,   10,   11,   12,   13,   14,\n",
       "       ...\n",
       "       4480, 4481, 4486, 4487, 4491, 4494, 4495, 4497, 4498, 4499],\n",
       "      dtype='int64', name='Movie_id', length=2699)"
      ]
     },
     "execution_count": 31,
     "metadata": {},
     "output_type": "execute_result"
    }
   ],
   "source": [
    "# Finding the index number of the things which we need to drop\n",
    "\n",
    "mov_drop = mov_summ[mov_summ['count']<mov_rem].index\n",
    "mov_drop"
   ]
  },
  {
   "cell_type": "code",
   "execution_count": 32,
   "id": "c717582f-c6cb-4975-a9d2-26af4c0e3db8",
   "metadata": {},
   "outputs": [
    {
     "data": {
      "text/plain": [
       "Index([      8,      25,      33,      83,      94,     126,     130,     133,\n",
       "           142,     149,\n",
       "       ...\n",
       "       2649337, 2649343, 2649351, 2649376, 2649379, 2649384, 2649401, 2649404,\n",
       "       2649409, 2649421],\n",
       "      dtype='int32', name='cust_id', length=282042)"
      ]
     },
     "execution_count": 32,
     "metadata": {},
     "output_type": "execute_result"
    }
   ],
   "source": [
    "cust_drop = cust_summ[cust_summ['count']<cust_rem].index\n",
    "cust_drop"
   ]
  },
  {
   "cell_type": "code",
   "execution_count": 33,
   "id": "20e9c4fa-a51a-459e-b365-076ba6b6b092",
   "metadata": {},
   "outputs": [
    {
     "name": "stdout",
     "output_type": "stream",
     "text": [
      "number of movie drop is 2699\n",
      "number of customer drop is 282042\n"
     ]
    }
   ],
   "source": [
    "print(f'number of movie drop is {len(mov_drop)}')\n",
    "print(f'number of customer drop is {len(cust_drop)}')"
   ]
  },
  {
   "cell_type": "code",
   "execution_count": 34,
   "id": "57372fcc-fc28-4597-8969-b26281f9cc3d",
   "metadata": {},
   "outputs": [],
   "source": [
    "data = data[~data['Movie_id'].isin(mov_drop)]\n",
    "data = data[~data['cust_id'].isin(cust_drop)]"
   ]
  },
  {
   "cell_type": "code",
   "execution_count": 35,
   "id": "add4a4ca-33f7-4663-8cfa-db2d86d63d72",
   "metadata": {},
   "outputs": [
    {
     "data": {
      "text/plain": [
       "(19695836, 3)"
      ]
     },
     "execution_count": 35,
     "metadata": {},
     "output_type": "execute_result"
    }
   ],
   "source": [
    "data.shape"
   ]
  },
  {
   "cell_type": "code",
   "execution_count": 36,
   "id": "117d7c14-fe38-4dc6-b162-b4e222e89045",
   "metadata": {},
   "outputs": [
    {
     "data": {
      "text/plain": [
       "cust_id     0\n",
       "Ratings     0\n",
       "Movie_id    0\n",
       "dtype: int64"
      ]
     },
     "execution_count": 36,
     "metadata": {},
     "output_type": "execute_result"
    }
   ],
   "source": [
    "data.isnull().sum()"
   ]
  },
  {
   "cell_type": "code",
   "execution_count": 37,
   "id": "e1a45984-6f87-4939-b156-142f10265df3",
   "metadata": {},
   "outputs": [],
   "source": [
    "mov_title = pd.read_csv('movie_titles.csv', encoding='ISO-8859-1', header= None, usecols=[0,1,2], names=['Movie_id', 'Year', 'Title'])"
   ]
  },
  {
   "cell_type": "code",
   "execution_count": 38,
   "id": "de2f1184-51d0-4d28-8ba4-2db3a08a0ed5",
   "metadata": {},
   "outputs": [
    {
     "data": {
      "text/html": [
       "<div>\n",
       "<style scoped>\n",
       "    .dataframe tbody tr th:only-of-type {\n",
       "        vertical-align: middle;\n",
       "    }\n",
       "\n",
       "    .dataframe tbody tr th {\n",
       "        vertical-align: top;\n",
       "    }\n",
       "\n",
       "    .dataframe thead th {\n",
       "        text-align: right;\n",
       "    }\n",
       "</style>\n",
       "<table border=\"1\" class=\"dataframe\">\n",
       "  <thead>\n",
       "    <tr style=\"text-align: right;\">\n",
       "      <th></th>\n",
       "      <th>Movie_id</th>\n",
       "      <th>Year</th>\n",
       "      <th>Title</th>\n",
       "    </tr>\n",
       "  </thead>\n",
       "  <tbody>\n",
       "    <tr>\n",
       "      <th>0</th>\n",
       "      <td>1</td>\n",
       "      <td>2003.0</td>\n",
       "      <td>Dinosaur Planet</td>\n",
       "    </tr>\n",
       "    <tr>\n",
       "      <th>1</th>\n",
       "      <td>2</td>\n",
       "      <td>2004.0</td>\n",
       "      <td>Isle of Man TT 2004 Review</td>\n",
       "    </tr>\n",
       "    <tr>\n",
       "      <th>2</th>\n",
       "      <td>3</td>\n",
       "      <td>1997.0</td>\n",
       "      <td>Character</td>\n",
       "    </tr>\n",
       "    <tr>\n",
       "      <th>3</th>\n",
       "      <td>4</td>\n",
       "      <td>1994.0</td>\n",
       "      <td>Paula Abdul's Get Up &amp; Dance</td>\n",
       "    </tr>\n",
       "    <tr>\n",
       "      <th>4</th>\n",
       "      <td>5</td>\n",
       "      <td>2004.0</td>\n",
       "      <td>The Rise and Fall of ECW</td>\n",
       "    </tr>\n",
       "  </tbody>\n",
       "</table>\n",
       "</div>"
      ],
      "text/plain": [
       "   Movie_id    Year                         Title\n",
       "0         1  2003.0               Dinosaur Planet\n",
       "1         2  2004.0    Isle of Man TT 2004 Review\n",
       "2         3  1997.0                     Character\n",
       "3         4  1994.0  Paula Abdul's Get Up & Dance\n",
       "4         5  2004.0      The Rise and Fall of ECW"
      ]
     },
     "execution_count": 38,
     "metadata": {},
     "output_type": "execute_result"
    }
   ],
   "source": [
    "mov_title.head()"
   ]
  },
  {
   "cell_type": "code",
   "execution_count": 39,
   "id": "edfb7722-b544-4b83-a949-538ada44f49a",
   "metadata": {},
   "outputs": [
    {
     "data": {
      "text/html": [
       "<div>\n",
       "<style scoped>\n",
       "    .dataframe tbody tr th:only-of-type {\n",
       "        vertical-align: middle;\n",
       "    }\n",
       "\n",
       "    .dataframe tbody tr th {\n",
       "        vertical-align: top;\n",
       "    }\n",
       "\n",
       "    .dataframe thead th {\n",
       "        text-align: right;\n",
       "    }\n",
       "</style>\n",
       "<table border=\"1\" class=\"dataframe\">\n",
       "  <thead>\n",
       "    <tr style=\"text-align: right;\">\n",
       "      <th></th>\n",
       "      <th>cust_id</th>\n",
       "      <th>Ratings</th>\n",
       "      <th>Movie_id</th>\n",
       "      <th>Year</th>\n",
       "      <th>Title</th>\n",
       "    </tr>\n",
       "  </thead>\n",
       "  <tbody>\n",
       "    <tr>\n",
       "      <th>0</th>\n",
       "      <td>712664</td>\n",
       "      <td>5.0</td>\n",
       "      <td>3</td>\n",
       "      <td>1997.0</td>\n",
       "      <td>Character</td>\n",
       "    </tr>\n",
       "    <tr>\n",
       "      <th>1</th>\n",
       "      <td>1331154</td>\n",
       "      <td>4.0</td>\n",
       "      <td>3</td>\n",
       "      <td>1997.0</td>\n",
       "      <td>Character</td>\n",
       "    </tr>\n",
       "    <tr>\n",
       "      <th>2</th>\n",
       "      <td>2632461</td>\n",
       "      <td>3.0</td>\n",
       "      <td>3</td>\n",
       "      <td>1997.0</td>\n",
       "      <td>Character</td>\n",
       "    </tr>\n",
       "    <tr>\n",
       "      <th>3</th>\n",
       "      <td>44937</td>\n",
       "      <td>5.0</td>\n",
       "      <td>3</td>\n",
       "      <td>1997.0</td>\n",
       "      <td>Character</td>\n",
       "    </tr>\n",
       "    <tr>\n",
       "      <th>4</th>\n",
       "      <td>656399</td>\n",
       "      <td>4.0</td>\n",
       "      <td>3</td>\n",
       "      <td>1997.0</td>\n",
       "      <td>Character</td>\n",
       "    </tr>\n",
       "    <tr>\n",
       "      <th>...</th>\n",
       "      <td>...</td>\n",
       "      <td>...</td>\n",
       "      <td>...</td>\n",
       "      <td>...</td>\n",
       "      <td>...</td>\n",
       "    </tr>\n",
       "    <tr>\n",
       "      <th>19695831</th>\n",
       "      <td>1055714</td>\n",
       "      <td>5.0</td>\n",
       "      <td>4496</td>\n",
       "      <td>1993.0</td>\n",
       "      <td>Farewell My Concubine</td>\n",
       "    </tr>\n",
       "    <tr>\n",
       "      <th>19695832</th>\n",
       "      <td>2643029</td>\n",
       "      <td>4.0</td>\n",
       "      <td>4496</td>\n",
       "      <td>1993.0</td>\n",
       "      <td>Farewell My Concubine</td>\n",
       "    </tr>\n",
       "    <tr>\n",
       "      <th>19695833</th>\n",
       "      <td>267802</td>\n",
       "      <td>4.0</td>\n",
       "      <td>4496</td>\n",
       "      <td>1993.0</td>\n",
       "      <td>Farewell My Concubine</td>\n",
       "    </tr>\n",
       "    <tr>\n",
       "      <th>19695834</th>\n",
       "      <td>1559566</td>\n",
       "      <td>3.0</td>\n",
       "      <td>4496</td>\n",
       "      <td>1993.0</td>\n",
       "      <td>Farewell My Concubine</td>\n",
       "    </tr>\n",
       "    <tr>\n",
       "      <th>19695835</th>\n",
       "      <td>293198</td>\n",
       "      <td>3.0</td>\n",
       "      <td>4496</td>\n",
       "      <td>1993.0</td>\n",
       "      <td>Farewell My Concubine</td>\n",
       "    </tr>\n",
       "  </tbody>\n",
       "</table>\n",
       "<p>19695836 rows × 5 columns</p>\n",
       "</div>"
      ],
      "text/plain": [
       "          cust_id  Ratings  Movie_id    Year                  Title\n",
       "0          712664      5.0         3  1997.0              Character\n",
       "1         1331154      4.0         3  1997.0              Character\n",
       "2         2632461      3.0         3  1997.0              Character\n",
       "3           44937      5.0         3  1997.0              Character\n",
       "4          656399      4.0         3  1997.0              Character\n",
       "...           ...      ...       ...     ...                    ...\n",
       "19695831  1055714      5.0      4496  1993.0  Farewell My Concubine\n",
       "19695832  2643029      4.0      4496  1993.0  Farewell My Concubine\n",
       "19695833   267802      4.0      4496  1993.0  Farewell My Concubine\n",
       "19695834  1559566      3.0      4496  1993.0  Farewell My Concubine\n",
       "19695835   293198      3.0      4496  1993.0  Farewell My Concubine\n",
       "\n",
       "[19695836 rows x 5 columns]"
      ]
     },
     "execution_count": 39,
     "metadata": {},
     "output_type": "execute_result"
    }
   ],
   "source": [
    "netflix = data.merge(mov_title, on='Movie_id', how = 'left')\n",
    "netflix"
   ]
  },
  {
   "cell_type": "code",
   "execution_count": null,
   "id": "8156c0d6-ab1f-4e8f-86b4-ac5a58c5e2b0",
   "metadata": {},
   "outputs": [
    {
     "name": "stdout",
     "output_type": "stream",
     "text": [
      "The most viewed movie is \n",
      "         cust_id  Ratings  Movie_id    Year          Title\n",
      "9847917   409101      1.0      2342  2004.0  Super Size Me\n"
     ]
    }
   ],
   "source": [
    "print(\"The most viewed movie is \")\n",
    "print(netflix.sort_values(\"Ratings\").head(1))\n",
    "netflix.sort_values(\"Ratings\", ascending = False).head(1)"
   ]
  },
  {
   "cell_type": "code",
   "execution_count": null,
   "id": "47e9e7b5-f0cb-46a9-b46d-665eff86637d",
   "metadata": {},
   "outputs": [],
   "source": [
    "print(\"The Most popular genre is: \")\n",
    "print(netflix.groupby(\"Movie_name\")[\"cust_ID\"].agg([\"sum\"]).sort_values(\"sum\",ascending = False).head(1))"
   ]
  },
  {
   "cell_type": "code",
   "execution_count": null,
   "id": "25c70381-c950-441d-8cb3-cab34e8fff42",
   "metadata": {},
   "outputs": [],
   "source": [
    "print(\"Worst Movie according to rating is: \")\n",
    "print(netflix.sort_values(\"Rating\").head(1))\n",
    "print(\"Best Movie according to rating is: \")\n",
    "print(netflix.sort_values(\"Rating\", ascending = False).head(1))"
   ]
  },
  {
   "cell_type": "markdown",
   "id": "7ed2d0fc-85cc-402c-aeb4-a96599726bed",
   "metadata": {},
   "source": [
    "## The conclusion of analysis"
   ]
  },
  {
   "cell_type": "markdown",
   "id": "2bc60038-b37c-462b-a3a3-d225d06afdb7",
   "metadata": {},
   "source": [
    "### The Most  Popular movie according to the data is:\n",
    "####        - Pirates of the Caribbean: The Curse of The Black Magic which has 189048833266 views\n",
    "### The Worst Movie according to rating is:\n",
    "####        - Super Size me which has 1 star rating\n",
    "### The Best movie according to rating is: \n",
    "####        - Character which has 5 star rating"
   ]
  }
 ],
 "metadata": {
  "kernelspec": {
   "display_name": "Python 3 (ipykernel)",
   "language": "python",
   "name": "python3"
  },
  "language_info": {
   "codemirror_mode": {
    "name": "ipython",
    "version": 3
   },
   "file_extension": ".py",
   "mimetype": "text/x-python",
   "name": "python",
   "nbconvert_exporter": "python",
   "pygments_lexer": "ipython3",
   "version": "3.11.7"
  }
 },
 "nbformat": 4,
 "nbformat_minor": 5
}
